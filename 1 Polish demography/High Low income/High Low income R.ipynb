{
 "cells": [
  {
   "cell_type": "markdown",
   "metadata": {},
   "source": [
    "POPULATION IN POLAND:"
   ]
  },
  {
   "cell_type": "code",
   "execution_count": 1,
   "metadata": {},
   "outputs": [
    {
     "name": "stderr",
     "output_type": "stream",
     "text": [
      "\n",
      "Attaching package: ‘dplyr’\n",
      "\n",
      "\n",
      "The following objects are masked from ‘package:data.table’:\n",
      "\n",
      "    between, first, last\n",
      "\n",
      "\n",
      "The following objects are masked from ‘package:stats’:\n",
      "\n",
      "    filter, lag\n",
      "\n",
      "\n",
      "The following objects are masked from ‘package:base’:\n",
      "\n",
      "    intersect, setdiff, setequal, union\n",
      "\n",
      "\n"
     ]
    }
   ],
   "source": [
    "library(data.table)\n",
    "library(dplyr)"
   ]
  },
  {
   "cell_type": "markdown",
   "metadata": {},
   "source": [
    "We have 4 datasets:"
   ]
  },
  {
   "cell_type": "code",
   "execution_count": 2,
   "metadata": {},
   "outputs": [],
   "source": [
    "deaths <- read.csv(\"~/Desktop/Micro project/Data/Deaths by Voivodeship.csv\", sep=\";\")\n",
    "births <- read.csv(\"~/Desktop/Micro project/Data/Live births by Voivodeship.csv\", sep=\";\")\n",
    "pop <- read.csv(\"~/Desktop/Micro project/Data/Population by Voidodeship.csv\", sep=\";\")"
   ]
  },
  {
   "cell_type": "code",
   "execution_count": 3,
   "metadata": {},
   "outputs": [],
   "source": [
    "deaths1 <- rbind(deaths[1:17,])\n",
    "births1 <- rbind(births[1:17,])\n",
    "pop1 <- rbind(pop[1:17,])"
   ]
  },
  {
   "cell_type": "code",
   "execution_count": 4,
   "metadata": {},
   "outputs": [],
   "source": [
    "df.deaths1 <- data.frame(t(deaths1[-1]))\n",
    "\n",
    "colnames(df.deaths1) <- deaths1[, 1]\n",
    "\n",
    "df.deaths1 <- setNames(cbind(rownames(df.deaths1), df.deaths1, row.names = NULL), \n",
    "         c(\"YEAR\", \"TOTAL\", \"Dolnoslaskie\", \"Kujawsko-pomorskie\", \n",
    "           \"Lubelskie\", \"Lubuskie\", \"Lodzkie\", \"Malopolskie\", \"Mazowieckie\", \n",
    "           \"Opolskie\", \"Podkarpackie\", \"Podlaskie\", \"Pomorskie\", \"Slaskie\", \n",
    "           \"Swietokrzyskie\", \"Warminsko-mazurskie\", \"Wielkopolskie\", \n",
    "           \"Zachodniopomorskie\"))\n",
    "\n",
    "df.births1 <- data.frame(t(births1[-1]))\n",
    "\n",
    "colnames(df.births1) <- births1[, 1]\n",
    "\n",
    "df.births1 <- setNames(cbind(rownames(df.births1), df.births1, row.names = NULL), \n",
    "         c(\"YEAR\", \"TOTAL\", \"Dolnoslaskie\", \"Kujawsko-pomorskie\", \n",
    "           \"Lubelskie\", \"Lubuskie\", \"Lodzkie\", \"Malopolskie\", \"Mazowieckie\", \n",
    "           \"Opolskie\", \"Podkarpackie\", \"Podlaskie\", \"Pomorskie\", \"Slaskie\", \n",
    "           \"Swietokrzyskie\", \"Warminsko-mazurskie\", \"Wielkopolskie\", \n",
    "           \"Zachodniopomorskie\"))\n",
    "\n",
    "df.pop1  <- data.frame(t(pop1 [-1]))\n",
    "\n",
    "colnames(df.pop1) <- pop1[, 1]\n",
    "\n",
    "df.pop1 <- setNames(cbind(rownames(df.pop1 ), df.pop1 , row.names = NULL), \n",
    "         c(\"YEAR\", \"TOTAL\", \"Dolnoslaskie\", \"Kujawsko-pomorskie\", \n",
    "           \"Lubelskie\", \"Lubuskie\", \"Lodzkie\", \"Malopolskie\", \"Mazowieckie\", \n",
    "           \"Opolskie\", \"Podkarpackie\", \"Podlaskie\", \"Pomorskie\", \"Slaskie\", \n",
    "           \"Swietokrzyskie\", \"Warminsko-mazurskie\", \"Wielkopolskie\", \n",
    "           \"Zachodniopomorskie\"))"
   ]
  },
  {
   "cell_type": "markdown",
   "metadata": {},
   "source": [
    "1) DEATHS DATA SET:"
   ]
  },
  {
   "cell_type": "code",
   "execution_count": 5,
   "metadata": {},
   "outputs": [],
   "source": [
    "df.deaths.rich <- df.deaths1[,c('YEAR', 'TOTAL', \"Dolnoslaskie\", \"Mazowieckie\", \"Slaskie\", \"Wielkopolskie\")]\n",
    "df.deaths.average <- df.deaths1[,c('YEAR', 'TOTAL', \"Kujawsko-pomorskie\", \"Lubuskie\", \"Lodzkie\", \"Malopolskie\", \"Opolskie\", \"Pomorskie\",  \"Zachodniopomorskie\")]\n",
    "df.deaths.poor <- df.deaths1[,c('YEAR', 'TOTAL', \"Podlaskie\", \"Lubelskie\", \"Warminsko-mazurskie\", \"Swietokrzyskie\", \"Podkarpackie\")]"
   ]
  },
  {
   "cell_type": "code",
   "execution_count": 6,
   "metadata": {},
   "outputs": [],
   "source": [
    "deaths.mean.rich <- c()\n",
    "\n",
    "for(i in 1:13){\n",
    "  deaths.mean.rich <- c(deaths.mean.rich, rowMeans(df.deaths.rich[i, 3:5]))\n",
    "}\n",
    "\n",
    "deaths.mean.average <- c()\n",
    "\n",
    "for(i in 1:13){\n",
    "  deaths.mean.average <- c(deaths.mean.average, rowMeans(df.deaths.average[i, 3:5]))\n",
    "}\n",
    "\n",
    "deaths.mean.poor <- c()\n",
    "\n",
    "for(i in 1:13){\n",
    "  deaths.mean.poor <- c(deaths.mean.poor, rowMeans(df.deaths.poor[i, 3:5]))\n",
    "}\n",
    "deaths2 <- data.frame(df.deaths1[1], deaths.mean.rich, deaths.mean.average, deaths.mean.poor)\n",
    "colnames(deaths2) <- c('Year', 'Rich', 'Avg', 'Poor')"
   ]
  },
  {
   "cell_type": "code",
   "execution_count": 7,
   "metadata": {},
   "outputs": [],
   "source": [
    "write.csv(deaths2,\n",
    "            \"~/Desktop/Micro project/deaths.groups.csv\")"
   ]
  },
  {
   "cell_type": "markdown",
   "metadata": {},
   "source": [
    "2) BIRTH DATA SET:"
   ]
  },
  {
   "cell_type": "code",
   "execution_count": 8,
   "metadata": {},
   "outputs": [],
   "source": [
    "df.births.rich <- df.births1[,c('YEAR', 'TOTAL', \"Dolnoslaskie\", \"Mazowieckie\", \"Slaskie\", \"Wielkopolskie\")]\n",
    "df.births.average <- df.births1[,c('YEAR', 'TOTAL', \"Kujawsko-pomorskie\", \"Lubuskie\", \"Lodzkie\", \"Malopolskie\", \"Opolskie\", \"Pomorskie\",  \"Zachodniopomorskie\")]\n",
    "df.births.poor <- df.births1[,c('YEAR', 'TOTAL', \"Podlaskie\", \"Lubelskie\", \"Warminsko-mazurskie\", \"Swietokrzyskie\", \"Podkarpackie\")]"
   ]
  },
  {
   "cell_type": "code",
   "execution_count": 9,
   "metadata": {},
   "outputs": [],
   "source": [
    "births.mean.rich <- c()\n",
    "\n",
    "for(i in 1:13){\n",
    "  births.mean.rich <- c(births.mean.rich, rowMeans(df.births.rich[i, 3:6]))\n",
    "}\n",
    "\n",
    "births.mean.average <- c()\n",
    "\n",
    "for(i in 1:13){\n",
    "  births.mean.average <- c(births.mean.average, rowMeans(df.births.average[i, 3:9]))\n",
    "}\n",
    "\n",
    "births.mean.poor <- c()\n",
    "\n",
    "for(i in 1:13){\n",
    "  births.mean.poor <- c(births.mean.poor, rowMeans(df.births.poor[i, 3:7]))\n",
    "}\n",
    "births2 <- data.frame(df.births1[1], births.mean.rich, births.mean.average, births.mean.poor)\n",
    "colnames(births2) <- c('Year', 'Rich', 'Avg', 'Poor')"
   ]
  },
  {
   "cell_type": "code",
   "execution_count": null,
   "metadata": {},
   "outputs": [],
   "source": []
  },
  {
   "cell_type": "code",
   "execution_count": 10,
   "metadata": {},
   "outputs": [],
   "source": [
    "write.csv(births2,\n",
    "            \"~/Desktop/Micro project/births.groups.csv\")"
   ]
  },
  {
   "cell_type": "code",
   "execution_count": 11,
   "metadata": {},
   "outputs": [
    {
     "data": {
      "text/html": [
       "<table>\n",
       "<caption>A data.frame: 13 × 4</caption>\n",
       "<thead>\n",
       "\t<tr><th></th><th scope=col>Year</th><th scope=col>Rich</th><th scope=col>Avg</th><th scope=col>Poor</th></tr>\n",
       "\t<tr><th></th><th scope=col>&lt;fct&gt;</th><th scope=col>&lt;dbl&gt;</th><th scope=col>&lt;dbl&gt;</th><th scope=col>&lt;dbl&gt;</th></tr>\n",
       "</thead>\n",
       "<tbody>\n",
       "\t<tr><th scope=row>1</th><td>X2006</td><td>39559.25</td><td>19534.57</td><td>15853.0</td></tr>\n",
       "\t<tr><th scope=row>2</th><td>X2007</td><td>41175.75</td><td>20232.14</td><td>16309.0</td></tr>\n",
       "\t<tr><th scope=row>3</th><td>X2008</td><td>44120.00</td><td>21680.86</td><td>17250.6</td></tr>\n",
       "\t<tr><th scope=row>4</th><td>X2009</td><td>44602.25</td><td>21766.71</td><td>17362.6</td></tr>\n",
       "\t<tr><th scope=row>5</th><td>X2010</td><td>44757.00</td><td>21357.57</td><td>16953.8</td></tr>\n",
       "\t<tr><th scope=row>6</th><td>X2011</td><td>41950.75</td><td>20087.86</td><td>15999.6</td></tr>\n",
       "\t<tr><th scope=row>7</th><td>X2012</td><td>41729.50</td><td>20008.57</td><td>15855.8</td></tr>\n",
       "\t<tr><th scope=row>8</th><td>X2013</td><td>40148.75</td><td>19129.57</td><td>15014.8</td></tr>\n",
       "\t<tr><th scope=row>9</th><td>X2014</td><td>41008.25</td><td>19371.86</td><td>15104.8</td></tr>\n",
       "\t<tr><th scope=row>10</th><td>X2015</td><td>40521.25</td><td>19059.57</td><td>14761.2</td></tr>\n",
       "\t<tr><th scope=row>11</th><td>X2016</td><td>42004.25</td><td>19840.86</td><td>15070.8</td></tr>\n",
       "\t<tr><th scope=row>12</th><td>X2017</td><td>43918.00</td><td>20854.71</td><td>16065.4</td></tr>\n",
       "\t<tr><th scope=row>13</th><td>X2018</td><td>42412.25</td><td>20099.57</td><td>15566.4</td></tr>\n",
       "</tbody>\n",
       "</table>\n"
      ],
      "text/latex": [
       "A data.frame: 13 × 4\n",
       "\\begin{tabular}{r|llll}\n",
       "  & Year & Rich & Avg & Poor\\\\\n",
       "  & <fct> & <dbl> & <dbl> & <dbl>\\\\\n",
       "\\hline\n",
       "\t1 & X2006 & 39559.25 & 19534.57 & 15853.0\\\\\n",
       "\t2 & X2007 & 41175.75 & 20232.14 & 16309.0\\\\\n",
       "\t3 & X2008 & 44120.00 & 21680.86 & 17250.6\\\\\n",
       "\t4 & X2009 & 44602.25 & 21766.71 & 17362.6\\\\\n",
       "\t5 & X2010 & 44757.00 & 21357.57 & 16953.8\\\\\n",
       "\t6 & X2011 & 41950.75 & 20087.86 & 15999.6\\\\\n",
       "\t7 & X2012 & 41729.50 & 20008.57 & 15855.8\\\\\n",
       "\t8 & X2013 & 40148.75 & 19129.57 & 15014.8\\\\\n",
       "\t9 & X2014 & 41008.25 & 19371.86 & 15104.8\\\\\n",
       "\t10 & X2015 & 40521.25 & 19059.57 & 14761.2\\\\\n",
       "\t11 & X2016 & 42004.25 & 19840.86 & 15070.8\\\\\n",
       "\t12 & X2017 & 43918.00 & 20854.71 & 16065.4\\\\\n",
       "\t13 & X2018 & 42412.25 & 20099.57 & 15566.4\\\\\n",
       "\\end{tabular}\n"
      ],
      "text/markdown": [
       "\n",
       "A data.frame: 13 × 4\n",
       "\n",
       "| <!--/--> | Year &lt;fct&gt; | Rich &lt;dbl&gt; | Avg &lt;dbl&gt; | Poor &lt;dbl&gt; |\n",
       "|---|---|---|---|---|\n",
       "| 1 | X2006 | 39559.25 | 19534.57 | 15853.0 |\n",
       "| 2 | X2007 | 41175.75 | 20232.14 | 16309.0 |\n",
       "| 3 | X2008 | 44120.00 | 21680.86 | 17250.6 |\n",
       "| 4 | X2009 | 44602.25 | 21766.71 | 17362.6 |\n",
       "| 5 | X2010 | 44757.00 | 21357.57 | 16953.8 |\n",
       "| 6 | X2011 | 41950.75 | 20087.86 | 15999.6 |\n",
       "| 7 | X2012 | 41729.50 | 20008.57 | 15855.8 |\n",
       "| 8 | X2013 | 40148.75 | 19129.57 | 15014.8 |\n",
       "| 9 | X2014 | 41008.25 | 19371.86 | 15104.8 |\n",
       "| 10 | X2015 | 40521.25 | 19059.57 | 14761.2 |\n",
       "| 11 | X2016 | 42004.25 | 19840.86 | 15070.8 |\n",
       "| 12 | X2017 | 43918.00 | 20854.71 | 16065.4 |\n",
       "| 13 | X2018 | 42412.25 | 20099.57 | 15566.4 |\n",
       "\n"
      ],
      "text/plain": [
       "   Year  Rich     Avg      Poor   \n",
       "1  X2006 39559.25 19534.57 15853.0\n",
       "2  X2007 41175.75 20232.14 16309.0\n",
       "3  X2008 44120.00 21680.86 17250.6\n",
       "4  X2009 44602.25 21766.71 17362.6\n",
       "5  X2010 44757.00 21357.57 16953.8\n",
       "6  X2011 41950.75 20087.86 15999.6\n",
       "7  X2012 41729.50 20008.57 15855.8\n",
       "8  X2013 40148.75 19129.57 15014.8\n",
       "9  X2014 41008.25 19371.86 15104.8\n",
       "10 X2015 40521.25 19059.57 14761.2\n",
       "11 X2016 42004.25 19840.86 15070.8\n",
       "12 X2017 43918.00 20854.71 16065.4\n",
       "13 X2018 42412.25 20099.57 15566.4"
      ]
     },
     "metadata": {},
     "output_type": "display_data"
    }
   ],
   "source": [
    "births2"
   ]
  },
  {
   "cell_type": "markdown",
   "metadata": {},
   "source": [
    "2) POPULATION DATA SET:"
   ]
  },
  {
   "cell_type": "code",
   "execution_count": 12,
   "metadata": {},
   "outputs": [],
   "source": [
    "df.pop.rich <- df.pop1[,c('YEAR', 'TOTAL', 'Mazowieckie', 'Malopolskie', 'Wielkopolskie')]\n",
    "df.pop.average <- df.pop1[,c('YEAR', 'TOTAL', 'Podkarpackie', \n",
    "                                   'Lubelskie', 'Slaskie', 'Lodzkie', \n",
    "                                   'Dolnoslaskie', 'Kujawsko-pomorskie', \n",
    "                                   'Pomorskie')]\n",
    "df.pop.poor <- df.pop1[,c('YEAR', 'TOTAL', \"Swietokrzyskie\", \"Warminsko-mazurskie\", \n",
    "                          \"Zachodniopomorskie\", \"Podlaskie\", \"Opolskie\", \"Lubuskie\")]"
   ]
  },
  {
   "cell_type": "code",
   "execution_count": 13,
   "metadata": {},
   "outputs": [],
   "source": [
    "pop.mean.rich <- c()\n",
    "\n",
    "for(i in 1:13){\n",
    "  pop.mean.rich <- c(pop.mean.rich, rowMeans(df.pop.rich[i, 3:5]))\n",
    "}\n",
    "\n",
    "pop.mean.average <- c()\n",
    "\n",
    "for(i in 1:13){\n",
    "  pop.mean.average <- c(pop.mean.average, rowMeans(df.pop.average[i, 3:5]))\n",
    "}\n",
    "\n",
    "pop.mean.poor <- c()\n",
    "\n",
    "for(i in 1:13){\n",
    "  pop.mean.poor <- c(pop.mean.poor, rowMeans(df.pop.poor[i, 3:5]))\n",
    "}\n",
    "pop2 <- data.frame(df.pop1[1], pop.mean.rich, pop.mean.average, pop.mean.poor)\n",
    "colnames(pop2) <- c('Year', 'Rich', 'Avg', 'Poor')"
   ]
  },
  {
   "cell_type": "code",
   "execution_count": 14,
   "metadata": {},
   "outputs": [],
   "source": [
    "write.csv(pop2,\n",
    "            \"~/Desktop/Micro project/pop.groups.csv\")"
   ]
  }
 ],
 "metadata": {
  "kernelspec": {
   "display_name": "R",
   "language": "R",
   "name": "ir"
  },
  "language_info": {
   "codemirror_mode": "r",
   "file_extension": ".r",
   "mimetype": "text/x-r-source",
   "name": "R",
   "pygments_lexer": "r",
   "version": "3.6.2"
  }
 },
 "nbformat": 4,
 "nbformat_minor": 2
}
