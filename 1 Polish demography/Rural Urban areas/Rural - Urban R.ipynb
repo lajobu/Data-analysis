{
 "cells": [
  {
   "cell_type": "markdown",
   "metadata": {},
   "source": [
    "POPULATION IN POLAND:"
   ]
  },
  {
   "cell_type": "code",
   "execution_count": 115,
   "metadata": {},
   "outputs": [],
   "source": [
    "library(data.table)\n",
    "library(dplyr)"
   ]
  },
  {
   "cell_type": "markdown",
   "metadata": {},
   "source": [
    "We have 4 datasets:"
   ]
  },
  {
   "cell_type": "markdown",
   "metadata": {},
   "source": [
    "1) DEATHS DATA SET:"
   ]
  },
  {
   "cell_type": "code",
   "execution_count": 116,
   "metadata": {},
   "outputs": [],
   "source": [
    "deaths <- read.csv(\"~/Desktop/Micro project/Data/Deaths by Voivodeship.csv\", sep=\";\")"
   ]
  },
  {
   "cell_type": "markdown",
   "metadata": {},
   "source": [
    "There are 51 rows:"
   ]
  },
  {
   "cell_type": "markdown",
   "metadata": {},
   "source": [
    "2-17: Deaths by Voivodships (2: total)"
   ]
  },
  {
   "cell_type": "code",
   "execution_count": 117,
   "metadata": {},
   "outputs": [],
   "source": [
    "deaths1 <- rbind(deaths[1:17,])"
   ]
  },
  {
   "cell_type": "markdown",
   "metadata": {},
   "source": [
    "It would be better to transport the matrix:"
   ]
  },
  {
   "cell_type": "code",
   "execution_count": 118,
   "metadata": {},
   "outputs": [],
   "source": [
    "df.deaths1 <- data.frame(t(deaths1[-1]))\n",
    "\n",
    "colnames(df.deaths1) <- deaths1[, 1]\n",
    "\n",
    "df.deaths1 <- setNames(cbind(rownames(df.deaths1), df.deaths1, row.names = NULL), \n",
    "         c(\"YEAR\", \"TOTAL\", \"Dolnoslaskie\", \"Kujawsko-pomorskie\", \n",
    "           \"Lubelskie\", \"Lubuskie\", \"Lodzkie\", \"Malopolskie\", \"Mazowieckie\", \n",
    "           \"Opolskie\", \"Podkarpackie\", \"Podlaskie\", \"Pomorskie\", \"Slaskie\", \n",
    "           \"Swietokrzyskie\", \"Warminsko-mazurskie\", \"Wielkopolskie\", \n",
    "           \"Zachodniopomorskie\"))"
   ]
  },
  {
   "cell_type": "code",
   "execution_count": 119,
   "metadata": {},
   "outputs": [],
   "source": [
    "write.csv(df.deaths1,\n",
    "            \"~/Desktop/Micro project/deaths1.csv\")"
   ]
  },
  {
   "cell_type": "markdown",
   "metadata": {},
   "source": [
    "17-34: Deaths - urban areas (18: total)"
   ]
  },
  {
   "cell_type": "code",
   "execution_count": 120,
   "metadata": {},
   "outputs": [],
   "source": [
    "deaths.urb <- rbind(deaths[35:51,])"
   ]
  },
  {
   "cell_type": "code",
   "execution_count": 121,
   "metadata": {},
   "outputs": [],
   "source": [
    "df.deaths.urb <- data.frame(t(deaths.urb[-1]))\n",
    "\n",
    "colnames(df.deaths.urb) <- deaths.urb[, 1]\n",
    "\n",
    "df.deaths.urb <- setNames(cbind(rownames(df.deaths.urb), df.deaths.urb, row.names = NULL), \n",
    "         c(\"YEAR\", \"TOTAL\", \"Dolnoslaskie\", \"Kujawsko-pomorskie\", \n",
    "           \"Lubelskie\", \"Lubuskie\", \"Lodzkie\", \"Malopolskie\", \"Mazowieckie\", \n",
    "           \"Opolskie\", \"Podkarpackie\", \"Podlaskie\", \"Pomorskie\", \"Slaskie\", \n",
    "           \"Swietokrzyskie\", \"Warminsko-mazurskie\", \"Wielkopolskie\", \n",
    "           \"Zachodniopomorskie\"))"
   ]
  },
  {
   "cell_type": "code",
   "execution_count": 122,
   "metadata": {},
   "outputs": [],
   "source": [
    "write.csv(df.deaths.urb,\n",
    "            \"~/Desktop/Micro project/deaths.urb.csv\")"
   ]
  },
  {
   "cell_type": "markdown",
   "metadata": {},
   "source": [
    "35-51: Deaths - rural areas (34: total)"
   ]
  },
  {
   "cell_type": "code",
   "execution_count": 123,
   "metadata": {},
   "outputs": [],
   "source": [
    "deaths.rur <- rbind(deaths[35:51,])"
   ]
  },
  {
   "cell_type": "code",
   "execution_count": 124,
   "metadata": {},
   "outputs": [],
   "source": [
    "df.deaths.rur <- data.frame(t(deaths.rur[-1]))\n",
    "\n",
    "colnames(df.deaths.rur) <- deaths.rur[, 1]\n",
    "\n",
    "df.deaths.rur <- setNames(cbind(rownames(df.deaths.rur), df.deaths.rur, row.names = NULL), \n",
    "         c(\"YEAR\", \"TOTAL\", \"Dolnoslaskie\", \"Kujawsko-pomorskie\", \n",
    "           \"Lubelskie\", \"Lubuskie\", \"Lodzkie\", \"Malopolskie\", \"Mazowieckie\", \n",
    "           \"Opolskie\", \"Podkarpackie\", \"Podlaskie\", \"Pomorskie\", \"Slaskie\", \n",
    "           \"Swietokrzyskie\", \"Warminsko-mazurskie\", \"Wielkopolskie\", \n",
    "           \"Zachodniopomorskie\"))"
   ]
  },
  {
   "cell_type": "code",
   "execution_count": 125,
   "metadata": {},
   "outputs": [],
   "source": [
    "write.csv(df.deaths.rur,\n",
    "            \"~/Desktop/Micro project/deaths.rur.csv\")"
   ]
  },
  {
   "cell_type": "markdown",
   "metadata": {},
   "source": [
    "As there is data from 2006 till 2017, we will calculate the average of this period."
   ]
  },
  {
   "cell_type": "markdown",
   "metadata": {},
   "source": [
    "We will use the same data frame to store the three means:"
   ]
  },
  {
   "cell_type": "code",
   "execution_count": 126,
   "metadata": {},
   "outputs": [],
   "source": [
    "#1\n",
    "\n",
    "deaths.mean <- c()\n",
    "\n",
    "for(i in 1:17){\n",
    "  deaths.mean <- c(deaths.mean, rowMeans(deaths1[i, 2:14]))\n",
    "}\n",
    "\n",
    "#2\n",
    "\n",
    "deaths.urb.mean <- c()\n",
    "\n",
    "for(i in 1:17){\n",
    "  deaths.urb.mean <- c(deaths.urb.mean, rowMeans(deaths.urb[i, 2:14]))\n",
    "}\n",
    "\n",
    "#3\n",
    "\n",
    "deaths.rur.mean <- c()\n",
    "\n",
    "for(i in 1:17){\n",
    "  deaths.rur.mean <- c(deaths.rur.mean, rowMeans(deaths.rur[i, 2:14]))\n",
    "}\n",
    "\n",
    "deaths2 <- data.frame(deaths1[1], deaths.mean, deaths.urb.mean, deaths.rur.mean)"
   ]
  },
  {
   "cell_type": "markdown",
   "metadata": {},
   "source": [
    "2) BIRTHS DATA SET:"
   ]
  },
  {
   "cell_type": "code",
   "execution_count": 127,
   "metadata": {},
   "outputs": [],
   "source": [
    "births <- read.csv(\"~/Desktop/Micro project/Data/Live births by Voivodeship.csv\", sep=\";\")"
   ]
  },
  {
   "cell_type": "markdown",
   "metadata": {},
   "source": [
    "There are 51 rows:"
   ]
  },
  {
   "cell_type": "markdown",
   "metadata": {},
   "source": [
    "2-17: Births by Voivodships (2: total)"
   ]
  },
  {
   "cell_type": "code",
   "execution_count": 128,
   "metadata": {},
   "outputs": [],
   "source": [
    "births1 <- rbind(births[1:17,])"
   ]
  },
  {
   "cell_type": "code",
   "execution_count": 129,
   "metadata": {},
   "outputs": [],
   "source": [
    "df.births1 <- data.frame(t(births1[-1]))\n",
    "\n",
    "colnames(df.births1) <- births1[, 1]\n",
    "\n",
    "df.births1 <- setNames(cbind(rownames(df.births1), df.births1, row.names = NULL), \n",
    "         c(\"YEAR\", \"TOTAL\", \"Dolnoslaskie\", \"Kujawsko-pomorskie\", \n",
    "           \"Lubelskie\", \"Lubuskie\", \"Lodzkie\", \"Malopolskie\", \"Mazowieckie\", \n",
    "           \"Opolskie\", \"Podkarpackie\", \"Podlaskie\", \"Pomorskie\", \"Slaskie\", \n",
    "           \"Swietokrzyskie\", \"Warminsko-mazurskie\", \"Wielkopolskie\", \n",
    "           \"Zachodniopomorskie\"))"
   ]
  },
  {
   "cell_type": "code",
   "execution_count": 130,
   "metadata": {},
   "outputs": [],
   "source": [
    "write.csv(df.births1,\n",
    "            \"~/Desktop/Micro project/births1.csv\")"
   ]
  },
  {
   "cell_type": "markdown",
   "metadata": {},
   "source": [
    "18-34: Births - urban areas (18: total)"
   ]
  },
  {
   "cell_type": "code",
   "execution_count": 131,
   "metadata": {},
   "outputs": [],
   "source": [
    "births.urb <- rbind(births[18:34,])"
   ]
  },
  {
   "cell_type": "code",
   "execution_count": 132,
   "metadata": {},
   "outputs": [],
   "source": [
    "df.births.urb  <- data.frame(t(births.urb [-1]))\n",
    "\n",
    "colnames(df.births.urb) <- births.urb[, 1]\n",
    "\n",
    "df.births.urb <- setNames(cbind(rownames(df.births.urb ), df.births.urb , row.names = NULL), \n",
    "         c(\"YEAR\", \"TOTAL\", \"Dolnoslaskie\", \"Kujawsko-pomorskie\", \n",
    "           \"Lubelskie\", \"Lubuskie\", \"Lodzkie\", \"Malopolskie\", \"Mazowieckie\", \n",
    "           \"Opolskie\", \"Podkarpackie\", \"Podlaskie\", \"Pomorskie\", \"Slaskie\", \n",
    "           \"Swietokrzyskie\", \"Warminsko-mazurskie\", \"Wielkopolskie\", \n",
    "           \"Zachodniopomorskie\"))"
   ]
  },
  {
   "cell_type": "code",
   "execution_count": 133,
   "metadata": {},
   "outputs": [],
   "source": [
    "write.csv(df.births.urb,\n",
    "            \"~/Desktop/Micro project/births.urb.csv\")"
   ]
  },
  {
   "cell_type": "markdown",
   "metadata": {},
   "source": [
    "34-51: Births - rural areas (34: total)"
   ]
  },
  {
   "cell_type": "code",
   "execution_count": 134,
   "metadata": {},
   "outputs": [],
   "source": [
    "births.rur <- rbind(births[35:51,])"
   ]
  },
  {
   "cell_type": "code",
   "execution_count": 135,
   "metadata": {},
   "outputs": [],
   "source": [
    "df.births.rur  <- data.frame(t(births.rur [-1]))\n",
    "\n",
    "colnames(df.births.rur) <- births.rur[, 1]\n",
    "\n",
    "df.births.rur <- setNames(cbind(rownames(df.births.rur ), df.births.rur , row.names = NULL), \n",
    "         c(\"YEAR\", \"TOTAL\", \"Dolnoslaskie\", \"Kujawsko-pomorskie\", \n",
    "           \"Lubelskie\", \"Lubuskie\", \"Lodzkie\", \"Malopolskie\", \"Mazowieckie\", \n",
    "           \"Opolskie\", \"Podkarpackie\", \"Podlaskie\", \"Pomorskie\", \"Slaskie\", \n",
    "           \"Swietokrzyskie\", \"Warminsko-mazurskie\", \"Wielkopolskie\", \n",
    "           \"Zachodniopomorskie\"))"
   ]
  },
  {
   "cell_type": "code",
   "execution_count": 136,
   "metadata": {},
   "outputs": [],
   "source": [
    "write.csv(df.births.rur,\n",
    "            \"~/Desktop/Micro project/births.rur.csv\")"
   ]
  },
  {
   "cell_type": "code",
   "execution_count": 137,
   "metadata": {},
   "outputs": [],
   "source": [
    "#1\n",
    "\n",
    "births.mean <- c()\n",
    "\n",
    "for(i in 1:17){\n",
    "  births.mean <- c(births.mean, rowMeans(births1[i, 2:14]))\n",
    "}\n",
    "\n",
    "#2\n",
    "\n",
    "births.urb.mean <- c()\n",
    "\n",
    "for(i in 1:17){\n",
    "  births.urb.mean <- c(births.urb.mean, rowMeans(births.urb[i, 2:14]))\n",
    "}\n",
    "\n",
    "#3\n",
    "\n",
    "births.rur.mean <- c()\n",
    "\n",
    "for(i in 1:17){\n",
    "  births.rur.mean <- c(births.rur.mean, rowMeans(births.rur[i, 2:14]))\n",
    "}\n",
    "\n",
    "births2 <- data.frame(births1[1], births.mean, births.urb.mean, births.rur.mean)"
   ]
  },
  {
   "cell_type": "markdown",
   "metadata": {},
   "source": [
    "3) POPULATION DATA SET:"
   ]
  },
  {
   "cell_type": "code",
   "execution_count": 138,
   "metadata": {},
   "outputs": [],
   "source": [
    "pop <- read.csv(\"~/Desktop/Micro project/Data/Population by Voidodeship.csv\", sep=\";\")"
   ]
  },
  {
   "cell_type": "markdown",
   "metadata": {},
   "source": [
    "There are 51 rows:"
   ]
  },
  {
   "cell_type": "markdown",
   "metadata": {},
   "source": [
    "2-17: Population by Voivodships (2: total)"
   ]
  },
  {
   "cell_type": "code",
   "execution_count": 139,
   "metadata": {},
   "outputs": [],
   "source": [
    "pop1 <- rbind(pop[1:17,])"
   ]
  },
  {
   "cell_type": "code",
   "execution_count": 140,
   "metadata": {},
   "outputs": [],
   "source": [
    "df.pop1  <- data.frame(t(pop1 [-1]))\n",
    "\n",
    "colnames(df.pop1) <- pop1[, 1]\n",
    "\n",
    "df.pop1 <- setNames(cbind(rownames(df.pop1 ), df.pop1 , row.names = NULL), \n",
    "         c(\"YEAR\", \"TOTAL\", \"Dolnoslaskie\", \"Kujawsko-pomorskie\", \n",
    "           \"Lubelskie\", \"Lubuskie\", \"Lodzkie\", \"Malopolskie\", \"Mazowieckie\", \n",
    "           \"Opolskie\", \"Podkarpackie\", \"Podlaskie\", \"Pomorskie\", \"Slaskie\", \n",
    "           \"Swietokrzyskie\", \"Warminsko-mazurskie\", \"Wielkopolskie\", \n",
    "           \"Zachodniopomorskie\"))"
   ]
  },
  {
   "cell_type": "code",
   "execution_count": 141,
   "metadata": {},
   "outputs": [],
   "source": [
    "write.csv(df.pop1,\n",
    "            \"~/Desktop/Micro project/pop1.csv\")"
   ]
  },
  {
   "cell_type": "markdown",
   "metadata": {},
   "source": [
    "18-34: Population - urban areas (18: total)"
   ]
  },
  {
   "cell_type": "code",
   "execution_count": 142,
   "metadata": {},
   "outputs": [],
   "source": [
    "pop.urb <- rbind(pop[18:34,])"
   ]
  },
  {
   "cell_type": "code",
   "execution_count": 143,
   "metadata": {},
   "outputs": [],
   "source": [
    "df.pop.urb  <- data.frame(t(pop.urb [-1]))\n",
    "\n",
    "colnames(df.pop.urb) <- pop.urb[, 1]\n",
    "\n",
    "df.pop.urb <- setNames(cbind(rownames(df.pop.urb), df.pop.urb , row.names = NULL), \n",
    "         c(\"YEAR\", \"TOTAL\", \"Dolnoslaskie\", \"Kujawsko-pomorskie\", \n",
    "           \"Lubelskie\", \"Lubuskie\", \"Lodzkie\", \"Malopolskie\", \"Mazowieckie\", \n",
    "           \"Opolskie\", \"Podkarpackie\", \"Podlaskie\", \"Pomorskie\", \"Slaskie\", \n",
    "           \"Swietokrzyskie\", \"Warminsko-mazurskie\", \"Wielkopolskie\", \n",
    "           \"Zachodniopomorskie\"))"
   ]
  },
  {
   "cell_type": "code",
   "execution_count": 144,
   "metadata": {},
   "outputs": [],
   "source": [
    "write.csv(df.pop.urb,\n",
    "            \"~/Desktop/Micro project/pop.urb.csv\")"
   ]
  },
  {
   "cell_type": "markdown",
   "metadata": {},
   "source": [
    "34-51: Population - rural areas (34: total)"
   ]
  },
  {
   "cell_type": "code",
   "execution_count": 145,
   "metadata": {},
   "outputs": [],
   "source": [
    "pop.rur <- rbind(pop[35:51,])"
   ]
  },
  {
   "cell_type": "code",
   "execution_count": 146,
   "metadata": {},
   "outputs": [],
   "source": [
    "df.pop.rur  <- data.frame(t(pop.rur [-1]))\n",
    "\n",
    "colnames(df.pop.rur) <- pop.rur[, 1]\n",
    "\n",
    "df.pop.rur <- setNames(cbind(rownames(df.pop.rur), df.pop.rur , row.names = NULL), \n",
    "         c(\"YEAR\", \"TOTAL\", \"Dolnoslaskie\", \"Kujawsko-pomorskie\", \n",
    "           \"Lubelskie\", \"Lubuskie\", \"Lodzkie\", \"Malopolskie\", \"Mazowieckie\", \n",
    "           \"Opolskie\", \"Podkarpackie\", \"Podlaskie\", \"Pomorskie\", \"Slaskie\", \n",
    "           \"Swietokrzyskie\", \"Warminsko-mazurskie\", \"Wielkopolskie\", \n",
    "           \"Zachodniopomorskie\"))"
   ]
  },
  {
   "cell_type": "code",
   "execution_count": 147,
   "metadata": {},
   "outputs": [],
   "source": [
    "write.csv(df.pop.rur,\n",
    "            \"~/Desktop/Micro project/pop.rur.csv\")"
   ]
  },
  {
   "cell_type": "code",
   "execution_count": 148,
   "metadata": {},
   "outputs": [],
   "source": [
    "#1\n",
    "\n",
    "pop.mean <- c()\n",
    "\n",
    "for(i in 1:17){\n",
    "  pop.mean <- c(pop.mean, rowMeans(pop1[i, 2:14]))\n",
    "}\n",
    "\n",
    "#2\n",
    "\n",
    "pop.urb.mean <- c()\n",
    "\n",
    "for(i in 1:17){\n",
    "  pop.urb.mean <- c(pop.urb.mean, rowMeans(pop.urb[i, 2:14]))\n",
    "}\n",
    "\n",
    "#3\n",
    "\n",
    "pop.rur.mean <- c()\n",
    "\n",
    "for(i in 1:17){\n",
    "  pop.rur.mean <- c(pop.rur.mean, rowMeans(pop.rur[i, 2:14]))\n",
    "}\n",
    "\n",
    "pop2 <- data.frame(pop1[1], pop.mean, pop.urb.mean, pop.rur.mean)"
   ]
  },
  {
   "cell_type": "markdown",
   "metadata": {},
   "source": [
    "4) GDP per capita current prices DATA SET:"
   ]
  },
  {
   "cell_type": "markdown",
   "metadata": {},
   "source": [
    "There are 17 rows:"
   ]
  },
  {
   "cell_type": "code",
   "execution_count": 149,
   "metadata": {},
   "outputs": [],
   "source": [
    "GDP <- read.csv(\"~/Desktop/Micro project/Data/GDP Voidodeship.csv\", sep=\";\")"
   ]
  },
  {
   "cell_type": "code",
   "execution_count": 150,
   "metadata": {},
   "outputs": [],
   "source": [
    "df.GDP  <- data.frame(t(GDP [-1]))\n",
    "\n",
    "colnames(df.GDP) <- GDP[, 1]\n",
    "\n",
    "df.GDP <- setNames(cbind(rownames(df.GDP), df.GDP , row.names = NULL), \n",
    "         c(\"YEAR\", \"TOTAL\", \"Dolnoslaskie\", \"Kujawsko-pomorskie\", \n",
    "           \"Lubelskie\", \"Lubuskie\", \"Lodzkie\", \"Malopolskie\", \"Mazowieckie\", \n",
    "           \"Opolskie\", \"Podkarpackie\", \"Podlaskie\", \"Pomorskie\", \"Slaskie\", \n",
    "           \"Swietokrzyskie\", \"Warminsko-mazurskie\", \"Wielkopolskie\", \n",
    "           \"Zachodniopomorskie\"))"
   ]
  },
  {
   "cell_type": "code",
   "execution_count": 151,
   "metadata": {},
   "outputs": [],
   "source": [
    "write.csv(df.GDP,\n",
    "            \"~/Desktop/Micro project/GDP.csv\")"
   ]
  },
  {
   "cell_type": "code",
   "execution_count": 152,
   "metadata": {},
   "outputs": [],
   "source": [
    "GDP.mean <- c()\n",
    "\n",
    "for(i in 1:17){\n",
    "  GDP.mean <- c(GDP.mean, rowMeans(GDP[i, 2:13]))\n",
    "}\n",
    "\n",
    "GDP2 <- data.frame(GDP[1], GDP.mean)"
   ]
  }
 ],
 "metadata": {
  "kernelspec": {
   "display_name": "R",
   "language": "R",
   "name": "ir"
  },
  "language_info": {
   "codemirror_mode": "r",
   "file_extension": ".r",
   "mimetype": "text/x-r-source",
   "name": "R",
   "pygments_lexer": "r",
   "version": "3.6.2"
  }
 },
 "nbformat": 4,
 "nbformat_minor": 2
}
